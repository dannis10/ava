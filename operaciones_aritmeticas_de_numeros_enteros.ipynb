{
  "nbformat": 4,
  "nbformat_minor": 0,
  "metadata": {
    "colab": {
      "provenance": [],
      "authorship_tag": "ABX9TyMYTtoXZaY6sPsYgM84i+l/",
      "include_colab_link": true
    },
    "kernelspec": {
      "name": "python3",
      "display_name": "Python 3"
    },
    "language_info": {
      "name": "python"
    }
  },
  "cells": [
    {
      "cell_type": "markdown",
      "metadata": {
        "id": "view-in-github",
        "colab_type": "text"
      },
      "source": [
        "<a href=\"https://colab.research.google.com/github/dannis10/ava/blob/main/operaciones_aritmeticas_de_numeros_enteros.ipynb\" target=\"_parent\"><img src=\"https://colab.research.google.com/assets/colab-badge.svg\" alt=\"Open In Colab\"/></a>"
      ]
    },
    {
      "cell_type": "code",
      "execution_count": null,
      "metadata": {
        "id": "OOabU5E255Fk"
      },
      "outputs": [],
      "source": [
        "#Función para sumar dos números\n",
        "def sumar (a,b):\n",
        "  return a+b\n",
        "\n",
        "#Función para restar dos números\n",
        "def restar (a,b):\n",
        "  return a-b\n",
        "\n",
        "#Función para multiplicar dos números\n",
        "def multiplicar (a,b):\n",
        "  return a*b\n",
        "\n",
        "#Función para dividir dos números\n",
        "def dividir (a,b):\n",
        "  #Manejo de división entre cero\n",
        "  if b != 0:\n",
        "    return a/b\n",
        "  else:\n",
        "    return \"Error: No se puede dividir entre 0\"\n",
        "\n",
        "  #Solicitar números al usuario\n",
        "  try:\n",
        "    numero1= int(input(\"Introduce el primer número entero: \"))\n",
        "    numero2=int(input(\"Introduce el segundo número entero: \"))\n",
        "\n",
        "    #Realizar las operaciones\n",
        "    suma=sumar(numero1,numero2)\n",
        "    resta=restar(numero1,numero2)\n",
        "    multiplicacion=multiplicar(numero1,numero2)\n",
        "    division=dividir(numero1,numero2)\n",
        "\n",
        "    #Mostrar resultados\n",
        "    print(f\"Suma: {suma}\")\n",
        "    print(f\"Resta: {resta}\")\n",
        "    print(f\"Multiplicación: {multiplicacion}\")\n",
        "    print(f\"División: {division}\")\n",
        "\n",
        "  except ValueError:\n",
        "    print(\"Por favor, introduce valores numéricos válidos.\")\n",
        "\n",
        "\n"
      ]
    }
  ]
}